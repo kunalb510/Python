{
 "cells": [
  {
   "cell_type": "markdown",
   "metadata": {},
   "source": [
    "# String"
   ]
  },
  {
   "cell_type": "markdown",
   "metadata": {},
   "source": [
    "**01. If we want to print a long row of dashes**"
   ]
  },
  {
   "cell_type": "code",
   "execution_count": 1,
   "metadata": {},
   "outputs": [
    {
     "name": "stdout",
     "output_type": "stream",
     "text": [
      "-----------------------------------------------------------------------------------------------------------------------------\n"
     ]
    }
   ],
   "source": [
    "print(\"-\"*125)"
   ]
  },
  {
   "cell_type": "markdown",
   "metadata": {},
   "source": [
    "**02. Here is an example that repeatedly asks the user to enter a letter and builds up a string consisting of only the vowels that the user entered.**"
   ]
  },
  {
   "cell_type": "code",
   "execution_count": 2,
   "metadata": {},
   "outputs": [
    {
     "name": "stdout",
     "output_type": "stream",
     "text": [
      "enter a letter :kunal\n",
      "enter a letter :a\n",
      "a\n",
      "enter a letter :f\n",
      "enter a letter :e\n",
      "ae\n",
      "enter a letter :s\n",
      "enter a letter :s\n",
      "enter a letter :s\n",
      "enter a letter :s\n",
      "enter a letter :s\n",
      "enter a letter :s\n"
     ]
    }
   ],
   "source": [
    "s = ''\n",
    "for i in range(10):\n",
    "    t=input('enter a letter :')\n",
    "    if t=='a' or t=='e'or t=='i'or t=='o'or t=='u':\n",
    "        s=s+t\n",
    "        print(s)\n",
    "    "
   ]
  },
  {
   "cell_type": "code",
   "execution_count": 3,
   "metadata": {},
   "outputs": [
    {
     "name": "stdout",
     "output_type": "stream",
     "text": [
      "enter a letter :a\n",
      "a\n",
      "enter a letter :f\n",
      "enter a letter :e\n",
      "ae\n",
      "enter a letter :d\n",
      "enter a letter :d\n",
      "enter a letter :d\n",
      "enter a letter :dd\n",
      "enter a letter :dd\n",
      "enter a letter :da\n",
      "enter a letter :a\n",
      "aea\n"
     ]
    }
   ],
   "source": [
    "#in operator\n",
    "\n",
    "s = ''\n",
    "for i in range(10):\n",
    "    t=input('enter a letter :')\n",
    "    if t in 'aeiou':\n",
    "        s=s+t\n",
    "        print(s)"
   ]
  },
  {
   "cell_type": "markdown",
   "metadata": {},
   "source": [
    "**replace r with $**"
   ]
  },
  {
   "cell_type": "code",
   "execution_count": 4,
   "metadata": {},
   "outputs": [
    {
     "name": "stdout",
     "output_type": "stream",
     "text": [
      "enter a word :restart\n",
      "resta$t\n"
     ]
    }
   ],
   "source": [
    "s=input('enter a word :')\n",
    "if s[0] in s[1:]:\n",
    "    for i in range(len(s)):\n",
    "        if s[0]==s[i]:\n",
    "            t=s.find(s[0],1,(len(s)))\n",
    "            s=s[:t]+\"$\"+s[t+1:]\n",
    "    print(s)\n",
    "else:\n",
    "    print(\"first letter not in rest of the word\")"
   ]
  },
  {
   "cell_type": "code",
   "execution_count": 5,
   "metadata": {},
   "outputs": [
    {
     "data": {
      "text/plain": [
       "False"
      ]
     },
     "execution_count": 5,
     "metadata": {},
     "output_type": "execute_result"
    }
   ],
   "source": [
    "s[0] in s[1:]"
   ]
  },
  {
   "cell_type": "code",
   "execution_count": 6,
   "metadata": {},
   "outputs": [
    {
     "name": "stdout",
     "output_type": "stream",
     "text": [
      "r\n",
      "e\n",
      "s\n",
      "t\n",
      "a\n",
      "$\n",
      "t\n"
     ]
    }
   ],
   "source": [
    "for i in range(len(s)):\n",
    "    print (s[i])"
   ]
  },
  {
   "cell_type": "code",
   "execution_count": 7,
   "metadata": {},
   "outputs": [
    {
     "name": "stdout",
     "output_type": "stream",
     "text": [
      "r\n",
      "e\n",
      "s\n",
      "t\n",
      "a\n",
      "$\n",
      "t\n"
     ]
    }
   ],
   "source": [
    "for c in s:\n",
    "    print(c)"
   ]
  },
  {
   "cell_type": "code",
   "execution_count": null,
   "metadata": {},
   "outputs": [],
   "source": [
    "#1. Write a program that asks the user to enter a string. The program should then print thefollowing:\n",
    "#(a) The total number of characters in the string\n",
    "#(b) The string repeated 10 times\n",
    "#(c) The first character of the string (remember that string indices start at 0)\n",
    "#(d) The first three characters of the string\n",
    "#(e) The last three characters of the string\n",
    "#(f) The string backwards\n",
    "#(g) The seventh character of the string if the string is long enough and a message otherwise\n",
    "#(h) The string with its first and last characters removed\n",
    "#(i) The string in all caps\n",
    "#(j) The string with every a replaced with an e\n",
    "#(k) The string with every letter replaced by a space"
   ]
  },
  {
   "cell_type": "code",
   "execution_count": 8,
   "metadata": {},
   "outputs": [
    {
     "name": "stdout",
     "output_type": "stream",
     "text": [
      "enter a word :valar morghulis\n",
      "The total number of characters in the string : 15\n",
      "valar morghulis valar morghulis valar morghulis valar morghulis valar morghulis valar morghulis valar morghulis valar morghulis valar morghulis valar morghulis \n",
      "v\n",
      "val\n",
      "lis\n",
      "siluhgrom ralav\n",
      "veler morghulis\n",
      "VALAR MORGHULIS\n",
      "alar morghuli\n",
      "m\n",
      "               \n"
     ]
    }
   ],
   "source": [
    "k=input('enter a word :')\n",
    "print (\"The total number of characters in the string :\",len(k))\n",
    "print (((k+\" \")*10))\n",
    "print (k[0])\n",
    "print (k[0:3])\n",
    "print (k[-3:])\n",
    "print (k[::-1])\n",
    "print (k.replace('a','e'))\n",
    "print (k.upper())\n",
    "print (k[1:(len(k)-1)])\n",
    "if len(k) >=7:\n",
    "    print(k[6])\n",
    "else:\n",
    "    print(\"less than 7 characters\")\n",
    "for i in range (len(k)):\n",
    "    k=k.replace(k[i],' ')\n",
    "        #continue\n",
    "print(k)\n"
   ]
  },
  {
   "cell_type": "code",
   "execution_count": null,
   "metadata": {},
   "outputs": [],
   "source": [
    "#A simple way to estimate the number of words in a string is to count the number of spacesin the string. \n",
    "#Write a program that asks the user for a string and returns an estimate of how many words are in the string."
   ]
  },
  {
   "cell_type": "code",
   "execution_count": 9,
   "metadata": {},
   "outputs": [
    {
     "name": "stdout",
     "output_type": "stream",
     "text": [
      "enter a word :valar\n"
     ]
    },
    {
     "ename": "TypeError",
     "evalue": "slice indices must be integers or None or have an __index__ method",
     "output_type": "error",
     "traceback": [
      "\u001b[1;31m---------------------------------------------------------------------------\u001b[0m",
      "\u001b[1;31mTypeError\u001b[0m                                 Traceback (most recent call last)",
      "\u001b[1;32m<ipython-input-9-ea0bac3af485>\u001b[0m in \u001b[0;36m<module>\u001b[1;34m\u001b[0m\n\u001b[0;32m      1\u001b[0m \u001b[0mw\u001b[0m\u001b[1;33m=\u001b[0m\u001b[0minput\u001b[0m\u001b[1;33m(\u001b[0m\u001b[1;34m'enter a word :'\u001b[0m\u001b[1;33m)\u001b[0m\u001b[1;33m\u001b[0m\u001b[1;33m\u001b[0m\u001b[0m\n\u001b[0;32m      2\u001b[0m \u001b[1;32mfor\u001b[0m \u001b[0mi\u001b[0m \u001b[1;32min\u001b[0m \u001b[0mrange\u001b[0m \u001b[1;33m(\u001b[0m\u001b[0mlen\u001b[0m\u001b[1;33m(\u001b[0m\u001b[0mw\u001b[0m\u001b[1;33m)\u001b[0m\u001b[1;33m)\u001b[0m\u001b[1;33m:\u001b[0m\u001b[1;33m\u001b[0m\u001b[1;33m\u001b[0m\u001b[0m\n\u001b[1;32m----> 3\u001b[1;33m     \u001b[0mt\u001b[0m\u001b[1;33m=\u001b[0m\u001b[0mw\u001b[0m\u001b[1;33m.\u001b[0m\u001b[0mfind\u001b[0m\u001b[1;33m(\u001b[0m\u001b[0mw\u001b[0m\u001b[1;33m,\u001b[0m\u001b[1;34m' '\u001b[0m\u001b[1;33m)\u001b[0m\u001b[1;33m\u001b[0m\u001b[1;33m\u001b[0m\u001b[0m\n\u001b[0m\u001b[0;32m      4\u001b[0m     \u001b[1;32mcontinue\u001b[0m\u001b[1;33m\u001b[0m\u001b[1;33m\u001b[0m\u001b[0m\n\u001b[0;32m      5\u001b[0m \u001b[0mprint\u001b[0m\u001b[1;33m(\u001b[0m\u001b[0mi\u001b[0m\u001b[1;33m)\u001b[0m\u001b[1;33m\u001b[0m\u001b[1;33m\u001b[0m\u001b[0m\n",
      "\u001b[1;31mTypeError\u001b[0m: slice indices must be integers or None or have an __index__ method"
     ]
    }
   ],
   "source": [
    "w=input('enter a word :')\n",
    "for i in range (len(w)):\n",
    "    t=w.find(w,' ')\n",
    "    continue\n",
    "print(i)\n",
    "\n"
   ]
  },
  {
   "cell_type": "code",
   "execution_count": 1,
   "metadata": {},
   "outputs": [
    {
     "name": "stdout",
     "output_type": "stream",
     "text": [
      "Enter some text: kunal bh\n",
      "Number of words in the string:\n",
      "2\n"
     ]
    }
   ],
   "source": [
    "s = input('Enter some text: ')\n",
    "count=0\n",
    "word=1\n",
    "for i in s:\n",
    "    count+=1\n",
    "    if(i==' '):\n",
    "        word=word+1\n",
    "print(\"Number of words in the string:\")\n",
    "print(word)"
   ]
  },
  {
   "cell_type": "markdown",
   "metadata": {},
   "source": [
    "***\n",
    "Write a program that asks the user to enter a string. The program should create a new string\n",
    "called new_string from the user’s string such that the second character is changed to an\n",
    "asterisk and three exclamation points are attached to the end of the string. Finally, print\n",
    "new_string. Typical output is shown below:\n",
    "Enter your string: Qbert\n",
    "Q*ert!!!\n",
    "***"
   ]
  },
  {
   "cell_type": "code",
   "execution_count": 11,
   "metadata": {},
   "outputs": [
    {
     "name": "stdout",
     "output_type": "stream",
     "text": [
      "Enter some text: qwerty\n",
      "q*erty!!!\n"
     ]
    }
   ],
   "source": [
    "s = input('Enter some text: ')\n",
    "p=(s.replace(s[1],\"*\")+\"!!!\")\n",
    "print(p)\n"
   ]
  },
  {
   "cell_type": "code",
   "execution_count": 12,
   "metadata": {},
   "outputs": [
    {
     "name": "stdout",
     "output_type": "stream",
     "text": [
      "Enter some text: (((()))\n",
      "brackets are not equal\n",
      "4 3\n"
     ]
    }
   ],
   "source": [
    "#People often forget closing parentheses when entering formulas.\n",
    "#Write a program that asks the user to enter a formula and prints out \n",
    "#whether the formula has the same number of opening and closing parentheses.\n",
    "\n",
    "s = input('Enter some text: ')\n",
    "count=0\n",
    "w=0\n",
    "x=0\n",
    "for i in s:\n",
    "    count+=1\n",
    "    if(i=='('):\n",
    "        w=w+1\n",
    "for i in s:\n",
    "    count+=1\n",
    "    if(i==')'):\n",
    "        x=x+1\n",
    "if w==x:\n",
    "    print(\"brackets are equal\")\n",
    "else:\n",
    "    print(\"brackets are not equal\")\n",
    "\n",
    "print(w,x)"
   ]
  },
  {
   "cell_type": "code",
   "execution_count": 13,
   "metadata": {},
   "outputs": [
    {
     "name": "stdout",
     "output_type": "stream",
     "text": [
      "Enter some text: ram is best\n",
      "the word has 3 vowels\n"
     ]
    }
   ],
   "source": [
    "#Write a program that asks the user to enter a word and prints out whether that word contains any vowels.\n",
    "s = input('Enter some text: ')\n",
    "count=0\n",
    "w=0\n",
    "for i in s:\n",
    "    count+=1\n",
    "    if i=='a' or i=='e'or i=='i'or i=='o'or i=='u':\n",
    "        w=w+1\n",
    "print(\"the word has %d vowels\" %w)\n"
   ]
  },
  {
   "cell_type": "code",
   "execution_count": 14,
   "metadata": {},
   "outputs": [
    {
     "name": "stdout",
     "output_type": "stream",
     "text": [
      "Enter some text: naman\n",
      "the word is pallindrome\n"
     ]
    }
   ],
   "source": [
    "#Write a program that asks the user to enter a word and determines whether the word is a palindrome or not.\n",
    "#A palindrome is a word that reads the same backwards as forwards.\n",
    "s = input('Enter some text: ')\n",
    "w = s[::-1]\n",
    "if w.upper()==s.upper():\n",
    "    print(\"the word is pallindrome\")\n",
    "else:\n",
    "    print(\"not a pallindrome\")"
   ]
  },
  {
   "cell_type": "code",
   "execution_count": 15,
   "metadata": {},
   "outputs": [
    {
     "name": "stdout",
     "output_type": "stream",
     "text": [
      "Enter emailid: kunal@student.co.in\n",
      "student id\n"
     ]
    }
   ],
   "source": [
    "id = input('Enter emailid: ')\n",
    "s=\"student\"\n",
    "p=\"prof\"\n",
    "if s in id:\n",
    "    print(\"student id\")\n",
    "elif p in id:\n",
    "    print(\"professor id\")\n",
    "else:\n",
    "    print(\"not a school id\")\n",
    "#line[line.find(\"@\")+1:line.find(\"student\",line.find(\"@\"))]"
   ]
  },
  {
   "cell_type": "code",
   "execution_count": 16,
   "metadata": {},
   "outputs": [
    {
     "name": "stdout",
     "output_type": "stream",
     "text": [
      "enter a number: 4\n",
      " 1\n",
      "  2\n",
      "   3\n",
      "    4\n"
     ]
    }
   ],
   "source": [
    "n=int(input(\"enter a number: \"))\n",
    "count=0\n",
    "for i in range(1,n+1):\n",
    "    count+=1\n",
    "    s=(\" \"*count)+str(i)\n",
    "    print(s)\n"
   ]
  },
  {
   "cell_type": "markdown",
   "metadata": {},
   "source": [
    "A python program to access each element of the string in forward and reverse orders using while loop "
   ]
  },
  {
   "cell_type": "code",
   "execution_count": 17,
   "metadata": {},
   "outputs": [
    {
     "name": "stdout",
     "output_type": "stream",
     "text": [
      "Core Python\n",
      "nohtyP eroC\n",
      "nohtyP eroC\n",
      "nohtyP eroC\n"
     ]
    }
   ],
   "source": [
    "str='Core Python'\n",
    "i=0\n",
    "n=len(str)\n",
    "while i<n:\n",
    "    print(str[i],end='')\n",
    "    i+=1\n",
    "print()\n",
    "i=-1\n",
    "while i>=-n:\n",
    "    print(str[i], end='')\n",
    "    i-=1\n",
    "print()\n",
    "i=1\n",
    "while i<=n:\n",
    "    print(str[-i], end='')\n",
    "    i+=1\n",
    "print()\n",
    "print(str[::-1])"
   ]
  },
  {
   "cell_type": "markdown",
   "metadata": {},
   "source": [
    "A python program to know whether a sub string exists in main string"
   ]
  },
  {
   "cell_type": "code",
   "execution_count": 18,
   "metadata": {},
   "outputs": [
    {
     "name": "stdout",
     "output_type": "stream",
     "text": [
      "Enter main string: kunal\n",
      "Enter sub string: al\n",
      "substring present in string at position : 3\n"
     ]
    }
   ],
   "source": [
    "string=input('Enter main string: ')\n",
    "sub=input('Enter sub string: ')\n",
    "if sub in string:\n",
    "    s=string.find(sub)\n",
    "    print(\"substring present in string at position :\",s)\n",
    "    "
   ]
  },
  {
   "cell_type": "code",
   "execution_count": 19,
   "metadata": {},
   "outputs": [
    {
     "name": "stdout",
     "output_type": "stream",
     "text": [
      "Enter main string: nahnahnah\n",
      "Enter sub string: na\n",
      "substring present in string at position : 1\n",
      "substring present in string at position : 4\n",
      "substring present in string at position : 7\n"
     ]
    }
   ],
   "source": [
    "string=input('Enter main string: ')\n",
    "sub=input('Enter sub string: ')\n",
    "count = 0\n",
    "s=0\n",
    "if sub in string:\n",
    "    while count <= len(string):\n",
    "        if sub!=string[count:count+len(sub)]:\n",
    "            count+=1\n",
    "            continue\n",
    "        elif sub==string[count:count+len(sub)]:\n",
    "            count+=1\n",
    "        #s=string.find(sub,count+1)\n",
    "            print(\"substring present in string at position :\",count)\n",
    "        \n",
    "        continue"
   ]
  },
  {
   "cell_type": "code",
   "execution_count": 20,
   "metadata": {},
   "outputs": [
    {
     "name": "stdout",
     "output_type": "stream",
     "text": [
      "Enter main string: game of thrones\n"
     ]
    },
    {
     "data": {
      "text/plain": [
       "'am'"
      ]
     },
     "execution_count": 20,
     "metadata": {},
     "output_type": "execute_result"
    }
   ],
   "source": [
    "string=input('Enter main string: ')\n",
    "string[1:3]"
   ]
  },
  {
   "cell_type": "markdown",
   "metadata": {},
   "source": [
    "A python program to insert a sub string exists in main string"
   ]
  },
  {
   "cell_type": "code",
   "execution_count": 25,
   "metadata": {},
   "outputs": [
    {
     "name": "stdout",
     "output_type": "stream",
     "text": [
      "Valar morghulis daeharis\n"
     ]
    }
   ],
   "source": [
    "string='Valar daeharis'\n",
    "#input('Enter main string: ')\n",
    "sub='morghulis '\n",
    "#input('Enter sub string: ')\n",
    "n=sub+string\n",
    "i=7\n",
    "#int(input('position to be inserted: '))\n",
    "n=(string[:i-1]+sub+n[i-1+len(sub):])\n",
    "print(n)\n"
   ]
  },
  {
   "cell_type": "markdown",
   "metadata": {},
   "source": [
    "A python program to identify the length of the string"
   ]
  },
  {
   "cell_type": "code",
   "execution_count": 26,
   "metadata": {},
   "outputs": [
    {
     "name": "stdout",
     "output_type": "stream",
     "text": [
      "Valar morghulis\n",
      "total no. of characters:  15\n"
     ]
    }
   ],
   "source": [
    "string='Valar morghulis'\n",
    "#input('Enter main string: ')\n",
    "i=0\n",
    "for s in string:\n",
    "    print(string[i],end='')\n",
    "    i+=1\n",
    "print('\\ntotal no. of characters: ',i)"
   ]
  },
  {
   "cell_type": "code",
   "execution_count": null,
   "metadata": {},
   "outputs": [],
   "source": [
    "replace string"
   ]
  },
  {
   "cell_type": "code",
   "execution_count": null,
   "metadata": {},
   "outputs": [],
   "source": [
    "string='there is a beautiful flower'\n",
    "#input('Enter main string: ')\n",
    "sub1='flower'\n",
    "sub2='girl'\n",
    "\n",
    "#input('Enter sub string: ')\n",
    "#n=sub2+string\n",
    "i=string.find(sub1)\n",
    "#sub1=sub2\n",
    "#int(input('position to be inserted: '))\n",
    "n=(string[:i-1]+sub2+string[i+len(sub1):])\n",
    "print(n)"
   ]
  },
  {
   "cell_type": "code",
   "execution_count": null,
   "metadata": {},
   "outputs": [],
   "source": [
    "string='there is a beautiful flower and a good flower'\n",
    "#input('Enter main string: ')\n",
    "sub1='flower'\n",
    "sub2='girl'\n",
    "count=0\n",
    "#input('Enter sub string: ')\n",
    "#n=sub2+string\n",
    "while count<len(string):\n",
    "    i=string.find(sub1,count)\n",
    "    #sub1=sub2\n",
    "    #int(input('position to be inserted: '))\n",
    "    string=(string[:i-1]+sub2+string[i+len(sub1):])\n",
    "    count+=1\n",
    "    continue\n",
    "print(n)"
   ]
  }
 ],
 "metadata": {
  "kernelspec": {
   "display_name": "Python 3",
   "language": "python",
   "name": "python3"
  },
  "language_info": {
   "codemirror_mode": {
    "name": "ipython",
    "version": 3
   },
   "file_extension": ".py",
   "mimetype": "text/x-python",
   "name": "python",
   "nbconvert_exporter": "python",
   "pygments_lexer": "ipython3",
   "version": "3.7.1"
  }
 },
 "nbformat": 4,
 "nbformat_minor": 2
}
